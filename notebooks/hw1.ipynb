{
 "cells": [
  {
   "cell_type": "markdown",
   "metadata": {},
   "source": [
    "# Введение 2. Основные термины и определения математического анализа, линейной алгебры и теории вероятностей"
   ]
  },
  {
   "cell_type": "markdown",
   "metadata": {},
   "source": [
    "### Перемножение матриц"
   ]
  },
  {
   "cell_type": "markdown",
   "metadata": {},
   "source": [
    "Импортируем нампи"
   ]
  },
  {
   "cell_type": "code",
   "execution_count": 40,
   "metadata": {},
   "outputs": [],
   "source": [
    "import numpy as np"
   ]
  },
  {
   "cell_type": "markdown",
   "metadata": {},
   "source": [
    "Используем функцию перемножения матриц из нампи"
   ]
  },
  {
   "cell_type": "code",
   "execution_count": 41,
   "metadata": {},
   "outputs": [],
   "source": [
    "def matmul(A, B):\n",
    "    return A.dot(B)"
   ]
  },
  {
   "cell_type": "markdown",
   "metadata": {},
   "source": [
    "1)"
   ]
  },
  {
   "cell_type": "code",
   "execution_count": 42,
   "metadata": {},
   "outputs": [
    {
     "name": "stdout",
     "output_type": "stream",
     "text": [
      "[[-63 -52  26]\n",
      " [ -9  34 -48]\n",
      " [ 54  16  12]]\n"
     ]
    }
   ],
   "source": [
    "A = np.array([[7,1,-1], [1,-3,5], [-6,2,-2]])\n",
    "B = np.array([[-9,-6,2], [0,-5,5], [0,5,-7]])\n",
    "C = matmul(A, B)\n",
    "print(C)"
   ]
  },
  {
   "cell_type": "markdown",
   "metadata": {},
   "source": [
    "2)"
   ]
  },
  {
   "cell_type": "code",
   "execution_count": 43,
   "metadata": {},
   "outputs": [
    {
     "name": "stdout",
     "output_type": "stream",
     "text": [
      "[[ 22  68  10]\n",
      " [-37  47  17]\n",
      " [ 67  17 -53]]\n"
     ]
    }
   ],
   "source": [
    "A = np.array([[-9,5,2], [-8,-3,4], [-5,8,-8]])\n",
    "B = np.array([[1,-5,1], [7,3,1], [-2,4,7]])\n",
    "C = matmul(A, B)\n",
    "print(C)"
   ]
  },
  {
   "cell_type": "markdown",
   "metadata": {},
   "source": [
    "### Определитель матриц"
   ]
  },
  {
   "cell_type": "markdown",
   "metadata": {},
   "source": [
    "Используем функцию вычисления определителя из пакета линейной алгебры нампи"
   ]
  },
  {
   "cell_type": "code",
   "execution_count": 44,
   "metadata": {},
   "outputs": [],
   "source": [
    "def det(A):\n",
    "    d = np.linalg.det(A)\n",
    "    return float(\"%0.2f\" % d)"
   ]
  },
  {
   "cell_type": "markdown",
   "metadata": {},
   "source": [
    "1)"
   ]
  },
  {
   "cell_type": "code",
   "execution_count": 45,
   "metadata": {},
   "outputs": [
    {
     "data": {
      "text/plain": [
       "-25.0"
      ]
     },
     "execution_count": 45,
     "metadata": {},
     "output_type": "execute_result"
    }
   ],
   "source": [
    "det(np.array([[4,1], [-7,-8]]))"
   ]
  },
  {
   "cell_type": "markdown",
   "metadata": {},
   "source": [
    "2)"
   ]
  },
  {
   "cell_type": "code",
   "execution_count": 46,
   "metadata": {},
   "outputs": [
    {
     "data": {
      "text/plain": [
       "-186.0"
      ]
     },
     "execution_count": 46,
     "metadata": {},
     "output_type": "execute_result"
    }
   ],
   "source": [
    "det(np.array([[7,2,-9], [9,-2,4], [0,2,-1]]))"
   ]
  },
  {
   "cell_type": "markdown",
   "metadata": {},
   "source": [
    "3)"
   ]
  },
  {
   "cell_type": "code",
   "execution_count": 47,
   "metadata": {},
   "outputs": [
    {
     "data": {
      "text/plain": [
       "19.0"
      ]
     },
     "execution_count": 47,
     "metadata": {},
     "output_type": "execute_result"
    }
   ],
   "source": [
    "det(np.array([[1,-7,-3], [4,4,-1], [1,0,0]]))"
   ]
  },
  {
   "cell_type": "markdown",
   "metadata": {},
   "source": [
    "4)"
   ]
  },
  {
   "cell_type": "code",
   "execution_count": 48,
   "metadata": {},
   "outputs": [
    {
     "data": {
      "text/plain": [
       "-35.0"
      ]
     },
     "execution_count": 48,
     "metadata": {},
     "output_type": "execute_result"
    }
   ],
   "source": [
    "det(np.array([[5,5,5,0], [1,4,0,1], [-2,-6,0,1], [0,-6,3,-2]]))"
   ]
  },
  {
   "cell_type": "markdown",
   "metadata": {},
   "source": [
    "### Собственные числа матриц"
   ]
  },
  {
   "cell_type": "markdown",
   "metadata": {},
   "source": [
    "Используем функцию вычисления собственных чисел и векторов из пакета линейной алгебры нампи"
   ]
  },
  {
   "cell_type": "code",
   "execution_count": 49,
   "metadata": {},
   "outputs": [],
   "source": [
    "def eig(A):\n",
    "    return np.linalg.eig(A)"
   ]
  },
  {
   "cell_type": "code",
   "execution_count": 50,
   "metadata": {},
   "outputs": [],
   "source": [
    "def print_eig(data):\n",
    "    print(\"X =\", [float(\"%0.2f\" % x) for x in data[0]])\n",
    "    print(\"V =\", [[float(\"%0.2f\" % x) for x in v] for v in data[1]])"
   ]
  },
  {
   "cell_type": "markdown",
   "metadata": {},
   "source": [
    "1)"
   ]
  },
  {
   "cell_type": "code",
   "execution_count": 51,
   "metadata": {},
   "outputs": [
    {
     "name": "stdout",
     "output_type": "stream",
     "text": [
      "X = [4.74, -2.74]\n",
      "V = [[0.75, 0.33], [-0.66, 0.94]]\n"
     ]
    }
   ],
   "source": [
    "print_eig(eig(np.array([[3,-2], [-5,-1]])))"
   ]
  },
  {
   "cell_type": "markdown",
   "metadata": {},
   "source": [
    "2)"
   ]
  },
  {
   "cell_type": "code",
   "execution_count": 52,
   "metadata": {},
   "outputs": [
    {
     "name": "stdout",
     "output_type": "stream",
     "text": [
      "X = [6.57, -3.0, -4.57]\n",
      "V = [[-0.94, -0.0, 0.12], [-0.06, 0.55, 0.81], [0.35, -0.83, -0.58]]\n"
     ]
    }
   ],
   "source": [
    "print_eig(eig(np.array([[6,-3,-2], [0,-6,-2], [-3,3,-1]])))"
   ]
  },
  {
   "cell_type": "markdown",
   "metadata": {},
   "source": [
    "### Предел полиномиальных дробей"
   ]
  },
  {
   "cell_type": "markdown",
   "metadata": {},
   "source": [
    "В заданиях a-d делим числитель и знаменатель на старшую степень. Если встречается косинус или синус, то принимаем за единицу, так как область значений этих функций находится между единицей и минус единицей."
   ]
  },
  {
   "cell_type": "markdown",
   "metadata": {},
   "source": [
    "a)"
   ]
  },
  {
   "cell_type": "code",
   "execution_count": 53,
   "metadata": {},
   "outputs": [
    {
     "data": {
      "text/latex": [
       "$\\lim_{x\\to\\infty} \\frac{4x^2+3x}{5x^2+17x-7} = \\frac{4}{5}$\n"
      ],
      "text/plain": [
       "<IPython.core.display.Latex object>"
      ]
     },
     "metadata": {},
     "output_type": "display_data"
    }
   ],
   "source": [
    "%%latex\n",
    "$\\lim_{x\\to\\infty} \\frac{4x^2+3x}{5x^2+17x-7} = \\frac{4}{5}$"
   ]
  },
  {
   "cell_type": "markdown",
   "metadata": {},
   "source": [
    "b)"
   ]
  },
  {
   "cell_type": "code",
   "execution_count": 54,
   "metadata": {},
   "outputs": [
    {
     "data": {
      "text/latex": [
       "$\\lim_{x\\to\\infty} \\frac{100x^2+17x-3}{x^3+x^2+x+1} = \\frac{100}{x} = 0$\n"
      ],
      "text/plain": [
       "<IPython.core.display.Latex object>"
      ]
     },
     "metadata": {},
     "output_type": "display_data"
    }
   ],
   "source": [
    "%%latex\n",
    "$\\lim_{x\\to\\infty} \\frac{100x^2+17x-3}{x^3+x^2+x+1} = \\frac{100}{x} = 0$"
   ]
  },
  {
   "cell_type": "markdown",
   "metadata": {},
   "source": [
    "c)"
   ]
  },
  {
   "cell_type": "code",
   "execution_count": 55,
   "metadata": {},
   "outputs": [
    {
     "data": {
      "text/latex": [
       "$\\lim_{x\\to\\infty} \\frac{x^2+4x+11+sin(x)}{3x^2+x-2} = \\frac{1}{3}$\n"
      ],
      "text/plain": [
       "<IPython.core.display.Latex object>"
      ]
     },
     "metadata": {},
     "output_type": "display_data"
    }
   ],
   "source": [
    "%%latex\n",
    "$\\lim_{x\\to\\infty} \\frac{x^2+4x+11+sin(x)}{3x^2+x-2} = \\frac{1}{3}$"
   ]
  },
  {
   "cell_type": "markdown",
   "metadata": {},
   "source": [
    "d)"
   ]
  },
  {
   "cell_type": "code",
   "execution_count": 56,
   "metadata": {},
   "outputs": [
    {
     "data": {
      "text/latex": [
       "$\\lim_{x\\to\\infty} \\frac{7x^2-2x-4+cos(x)}{7x^2-7x+7+sin(x)} = 1$\n"
      ],
      "text/plain": [
       "<IPython.core.display.Latex object>"
      ]
     },
     "metadata": {},
     "output_type": "display_data"
    }
   ],
   "source": [
    "%%latex\n",
    "$\\lim_{x\\to\\infty} \\frac{7x^2-2x-4+cos(x)}{7x^2-7x+7+sin(x)} = 1$"
   ]
  },
  {
   "cell_type": "markdown",
   "metadata": {},
   "source": [
    "В заданиях e и f нужно применить второй замечательный предел"
   ]
  },
  {
   "cell_type": "markdown",
   "metadata": {},
   "source": [
    "e)"
   ]
  },
  {
   "cell_type": "code",
   "execution_count": 57,
   "metadata": {},
   "outputs": [
    {
     "data": {
      "text/latex": [
       "$\\lim_{x\\to\\infty} (1 + \\frac{1}{2x})^{3x} = ((1 + \\frac{1}{2x})^{2x})^\\frac{3x}{2x} = e^\\frac{3}{2}$\n"
      ],
      "text/plain": [
       "<IPython.core.display.Latex object>"
      ]
     },
     "metadata": {},
     "output_type": "display_data"
    }
   ],
   "source": [
    "%%latex\n",
    "$\\lim_{x\\to\\infty} (1 + \\frac{1}{2x})^{3x} = ((1 + \\frac{1}{2x})^{2x})^\\frac{3x}{2x} = e^\\frac{3}{2}$"
   ]
  },
  {
   "cell_type": "markdown",
   "metadata": {},
   "source": [
    "f)"
   ]
  },
  {
   "cell_type": "code",
   "execution_count": 58,
   "metadata": {},
   "outputs": [
    {
     "data": {
      "text/latex": [
       "$\\lim_{x\\to\\infty} (\\frac{x-1}{x+1})^{x+2} = (1 + \\frac{-2}{x+1})^{x+2} = (1 + \\frac{1}{\\frac{x+1}{-2}})^{x+2} = (((1 + \\frac{1}{\\frac{x+1}{-2}})^{\\frac{x+1}{-2}}))^{\\frac{-2}{x+1}*(x+2)} = e^{-2*\\lim_{x\\to\\infty} \\frac{x+2}{x+1}} = e^{-2}$\n"
      ],
      "text/plain": [
       "<IPython.core.display.Latex object>"
      ]
     },
     "metadata": {},
     "output_type": "display_data"
    }
   ],
   "source": [
    "%%latex\n",
    "$\\lim_{x\\to\\infty} (\\frac{x-1}{x+1})^{x+2} = (1 + \\frac{-2}{x+1})^{x+2} = (1 + \\frac{1}{\\frac{x+1}{-2}})^{x+2} = (((1 + \\frac{1}{\\frac{x+1}{-2}})^{\\frac{x+1}{-2}}))^{\\frac{-2}{x+1}*(x+2)} = e^{-2*\\lim_{x\\to\\infty} \\frac{x+2}{x+1}} = e^{-2}$"
   ]
  },
  {
   "cell_type": "markdown",
   "metadata": {},
   "source": [
    "В задании g нужно разложить arctg и sin в ряд Маклорена"
   ]
  },
  {
   "cell_type": "code",
   "execution_count": 59,
   "metadata": {
    "scrolled": true
   },
   "outputs": [
    {
     "data": {
      "text/latex": [
       "$\\lim_{x\\to 0} \\frac{arctg(x) - sin(x)}{x^5} = \\frac{x - \\frac{x^3}{3} + \\frac{x^5}{5} - \\frac{x^7}{7} - (x - \\frac{x^3}{3!} + \\frac{x^5}{5!} - \\frac{x^7}{7!})}{x^5} = \\frac{\\frac{x^3}{3!} - \\frac{x^3}{3} + \\frac{x^5}{5} - \\frac{x^5}{5!} + \\frac{x^7}{7!} - \\frac{x^7}{7}}{x^5} = \\frac{1}{6x^2} - \\frac{1}{3x^2} + \\frac{1}{5} - \\frac{1}{5!} = -\\infty$\n"
      ],
      "text/plain": [
       "<IPython.core.display.Latex object>"
      ]
     },
     "metadata": {},
     "output_type": "display_data"
    }
   ],
   "source": [
    "%%latex\n",
    "$\\lim_{x\\to 0} \\frac{arctg(x) - sin(x)}{x^5} = \\frac{x - \\frac{x^3}{3} + \\frac{x^5}{5} - \\frac{x^7}{7} - (x - \\frac{x^3}{3!} + \\frac{x^5}{5!} - \\frac{x^7}{7!})}{x^5} = \\frac{\\frac{x^3}{3!} - \\frac{x^3}{3} + \\frac{x^5}{5} - \\frac{x^5}{5!} + \\frac{x^7}{7!} - \\frac{x^7}{7}}{x^5} = \\frac{1}{6x^2} - \\frac{1}{3x^2} + \\frac{1}{5} - \\frac{1}{5!} = -\\infty$"
   ]
  },
  {
   "cell_type": "markdown",
   "metadata": {},
   "source": [
    "### Нотация o малое"
   ]
  },
  {
   "cell_type": "code",
   "execution_count": 60,
   "metadata": {},
   "outputs": [
    {
     "data": {
      "text/latex": [
       "При $x\\to 0$ преобразовать $(1+x^4+x^5+o(x^9))*(1+x^3+x^4+o(x^9))$\n"
      ],
      "text/plain": [
       "<IPython.core.display.Latex object>"
      ]
     },
     "metadata": {},
     "output_type": "display_data"
    }
   ],
   "source": [
    "%%latex\n",
    "При $x\\to 0$ преобразовать $(1+x^4+x^5+o(x^9))*(1+x^3+x^4+o(x^9))$"
   ]
  },
  {
   "cell_type": "code",
   "execution_count": 80,
   "metadata": {},
   "outputs": [
    {
     "data": {
      "text/latex": [
       "$(1+x^4+x^5+o(x^9))*(1+x^3+x^4+o(x^9)) = 1 + x^3 + x^4 + o(x^9) + x^4 + x^7 + x^8 + x^4*o(x^9) + x^5 + x^8 + x^9 + x^5*o(x^9) + o(x^9) + x^3*o(x^9) + x^4*o(x^9) + o(x^9)*o(x^9) = 1 + x^3 + 2x^4 + x^5 + x^7 + 2x^8 + x^9 + o(x^9) + o(x^{13}) + o(x^{14}) + o(x^{12}) + o(x^{13}) + o(x^{18}) = 1 + x^3 + 2x^4 + x^5 + x^7 + 2x^8 + o(x^9)$\n"
      ],
      "text/plain": [
       "<IPython.core.display.Latex object>"
      ]
     },
     "metadata": {},
     "output_type": "display_data"
    }
   ],
   "source": [
    "%%latex\n",
    "$(1+x^4+x^5+o(x^9))*(1+x^3+x^4+o(x^9)) = 1 + x^3 + x^4 + o(x^9) + x^4 + x^7 + x^8 + x^4*o(x^9) + x^5 + x^8 + x^9 + x^5*o(x^9) + o(x^9) + x^3*o(x^9) + x^4*o(x^9) + o(x^9)*o(x^9) = 1 + x^3 + 2x^4 + x^5 + x^7 + 2x^8 + x^9 + o(x^9) + o(x^{13}) + o(x^{14}) + o(x^{12}) + o(x^{13}) + o(x^{18}) = 1 + x^3 + 2x^4 + x^5 + x^7 + 2x^8 + o(x^9)$"
   ]
  },
  {
   "cell_type": "markdown",
   "metadata": {},
   "source": [
    "### Матожидание и дисперсия"
   ]
  },
  {
   "cell_type": "markdown",
   "metadata": {},
   "source": [
    "Матожидание дискретной случайной величины вычисляется по формуле"
   ]
  },
  {
   "cell_type": "code",
   "execution_count": 62,
   "metadata": {},
   "outputs": [
    {
     "data": {
      "text/latex": [
       "$M[X]=\\sum \\limits _{{i=1}}^{{\\infty }}x_{i}\\,p_{i}$\n"
      ],
      "text/plain": [
       "<IPython.core.display.Latex object>"
      ]
     },
     "metadata": {},
     "output_type": "display_data"
    }
   ],
   "source": [
    "%%latex\n",
    "$M[X]=\\sum \\limits _{{i=1}}^{{\\infty }}x_{i}\\,p_{i}$"
   ]
  },
  {
   "cell_type": "markdown",
   "metadata": {},
   "source": [
    "дисперсия"
   ]
  },
  {
   "cell_type": "code",
   "execution_count": 63,
   "metadata": {},
   "outputs": [
    {
     "data": {
      "text/latex": [
       "$D[X]=\\sum \\limits _{i=1}^{n}{p_{i}(x_{i}-M[X])^{2}}$\n"
      ],
      "text/plain": [
       "<IPython.core.display.Latex object>"
      ]
     },
     "metadata": {},
     "output_type": "display_data"
    }
   ],
   "source": [
    "%%latex\n",
    "$D[X]=\\sum \\limits _{i=1}^{n}{p_{i}(x_{i}-M[X])^{2}}$"
   ]
  },
  {
   "cell_type": "markdown",
   "metadata": {},
   "source": [
    "Если случайная величина имеет непрерывное равномерное распределение, то матожидание можно вычислить по формуле"
   ]
  },
  {
   "cell_type": "code",
   "execution_count": 64,
   "metadata": {},
   "outputs": [
    {
     "data": {
      "text/latex": [
       "$M[X]={\\frac {a+b}{2}}$\n"
      ],
      "text/plain": [
       "<IPython.core.display.Latex object>"
      ]
     },
     "metadata": {},
     "output_type": "display_data"
    }
   ],
   "source": [
    "%%latex\n",
    "$M[X]={\\frac {a+b}{2}}$"
   ]
  },
  {
   "cell_type": "markdown",
   "metadata": {},
   "source": [
    "дисперсия"
   ]
  },
  {
   "cell_type": "code",
   "execution_count": 65,
   "metadata": {
    "scrolled": true
   },
   "outputs": [
    {
     "data": {
      "text/latex": [
       "$D[X]={\\frac {(b-a)^{2}}{12}}$\n"
      ],
      "text/plain": [
       "<IPython.core.display.Latex object>"
      ]
     },
     "metadata": {},
     "output_type": "display_data"
    }
   ],
   "source": [
    "%%latex\n",
    "$D[X]={\\frac {(b-a)^{2}}{12}}$"
   ]
  },
  {
   "cell_type": "code",
   "execution_count": 66,
   "metadata": {},
   "outputs": [],
   "source": [
    "def print_md(MD):\n",
    "    print(\"M =\", float(\"%0.2f\" % MD[0]))\n",
    "    print(\"D =\", float(\"%0.2f\" % MD[1]))"
   ]
  },
  {
   "cell_type": "code",
   "execution_count": 67,
   "metadata": {},
   "outputs": [],
   "source": [
    "from functools import reduce\n",
    "\n",
    "def mdd(X, P):\n",
    "    M = reduce(lambda m, v: m + (v[0]*v[1]), zip(X,P), 0)\n",
    "    D = reduce(lambda d, v: d + v[1]*(v[0]-M)**2, zip(X,P), 0)\n",
    "    return (M,D)"
   ]
  },
  {
   "cell_type": "code",
   "execution_count": 68,
   "metadata": {},
   "outputs": [],
   "source": [
    "def mdu(a,b):\n",
    "    return (a+b)/2, ((b-a)**2)/12"
   ]
  },
  {
   "cell_type": "markdown",
   "metadata": {},
   "source": [
    "a) b)"
   ]
  },
  {
   "cell_type": "code",
   "execution_count": 69,
   "metadata": {},
   "outputs": [
    {
     "name": "stdout",
     "output_type": "stream",
     "text": [
      "M = 0.75\n",
      "D = 2.59\n"
     ]
    }
   ],
   "source": [
    "print_md(mdd([-2,-1,0,1,2,3], [0.1,0.1,0.3,0.2,0.05,0.25]))"
   ]
  },
  {
   "cell_type": "markdown",
   "metadata": {},
   "source": [
    "c)"
   ]
  },
  {
   "cell_type": "code",
   "execution_count": 70,
   "metadata": {},
   "outputs": [
    {
     "name": "stdout",
     "output_type": "stream",
     "text": [
      "M = 2.5\n",
      "D = 0.75\n"
     ]
    }
   ],
   "source": [
    "print_md(mdu(1,4))"
   ]
  },
  {
   "cell_type": "markdown",
   "metadata": {},
   "source": [
    "d)"
   ]
  },
  {
   "cell_type": "code",
   "execution_count": 71,
   "metadata": {},
   "outputs": [
    {
     "name": "stdout",
     "output_type": "stream",
     "text": [
      "M = 1.0\n",
      "D = 12.0\n"
     ]
    }
   ],
   "source": [
    "print_md(mdu(-5,7))"
   ]
  }
 ],
 "metadata": {
  "kernelspec": {
   "display_name": "Python 3",
   "language": "python",
   "name": "python3"
  },
  "language_info": {
   "codemirror_mode": {
    "name": "ipython",
    "version": 3
   },
   "file_extension": ".py",
   "mimetype": "text/x-python",
   "name": "python",
   "nbconvert_exporter": "python",
   "pygments_lexer": "ipython3",
   "version": "3.7.3"
  }
 },
 "nbformat": 4,
 "nbformat_minor": 2
}
