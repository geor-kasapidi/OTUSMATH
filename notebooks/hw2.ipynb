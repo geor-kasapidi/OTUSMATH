{
 "cells": [
  {
   "cell_type": "markdown",
   "metadata": {},
   "source": [
    "# ДЗ №2"
   ]
  },
  {
   "cell_type": "code",
   "execution_count": 32,
   "metadata": {},
   "outputs": [],
   "source": [
    "import numpy as np"
   ]
  },
  {
   "cell_type": "markdown",
   "metadata": {},
   "source": [
    "## Перемножение матриц"
   ]
  },
  {
   "cell_type": "code",
   "execution_count": 33,
   "metadata": {},
   "outputs": [
    {
     "name": "stdout",
     "output_type": "stream",
     "text": [
      "A \n",
      " [[ 28  95  50]\n",
      " [ 32 -57 -42]\n",
      " [-22 -23  16]] \n",
      "\n",
      "B \n",
      " [[-36]\n",
      " [ 14]\n",
      " [ 62]] \n",
      "\n"
     ]
    }
   ],
   "source": [
    "data = [\n",
    "    (\"A\", [[7,6,5],[-1,-2,-5], [-7,0,-2]], [[6,1,-4],[6,8,8], [-10,8,6]]),\n",
    "    (\"B\", [[0,-4,-1],[-2,2,7],[4,6,9]], [[2],[9],[0]])\n",
    "]\n",
    "\n",
    "for x in data:\n",
    "    C = np.array(x[1]).dot(np.array(x[2]))\n",
    "    print(x[0], \"\\n\", C, \"\\n\")"
   ]
  },
  {
   "cell_type": "markdown",
   "metadata": {},
   "source": [
    "## Ранг матрицы"
   ]
  },
  {
   "cell_type": "code",
   "execution_count": 34,
   "metadata": {},
   "outputs": [
    {
     "name": "stdout",
     "output_type": "stream",
     "text": [
      "A 2\n",
      "B 2\n",
      "C 2\n"
     ]
    }
   ],
   "source": [
    "data = [\n",
    "    (\"A\", [[4,2,3],[5,2,1],[9,4,4]]),\n",
    "    (\"B\", [[3,2,1,5],[6,4,3,7],[9,6,5,9],[3,2,0,8]]),\n",
    "    (\"C\", [[1,2,1,1],[0,1,1,1],[1,3,2,2]])\n",
    "]\n",
    "\n",
    "for x in data:\n",
    "    R = np.linalg.matrix_rank(np.array(x[1]))\n",
    "    print(x[0], R)"
   ]
  },
  {
   "cell_type": "markdown",
   "metadata": {},
   "source": [
    "## Определитель"
   ]
  },
  {
   "cell_type": "code",
   "execution_count": 35,
   "metadata": {},
   "outputs": [
    {
     "name": "stdout",
     "output_type": "stream",
     "text": [
      "A 185.0\n",
      "B 20.0\n",
      "C -86.0\n",
      "D 0.0\n",
      "E 20.0\n"
     ]
    }
   ],
   "source": [
    "data = [\n",
    "    (\"A\", [[-3,7,4],[2,-1,2],[3,7,-3]]),\n",
    "    (\"B\", [[-1,0,2],[-10,-7,4],[-3,-3,2]]),\n",
    "    (\"C\", [[4,-2,1],[-5,0,-1],[-7,2,7]]),\n",
    "    (\"D\", [[7,-4,-10,3,1],[7,-9,2,-6,-2],[-3,-8,3,-7,-7],[7,8,-4,2,-8],[0,5,-12,9,3]]),\n",
    "    (\"E\", [[-1,-5,2,2],[-5,0,-3,6],[-5,9,-5,8], [-8,-6,-5,6]])\n",
    "]\n",
    "\n",
    "for x in data:\n",
    "    D = np.linalg.det(np.array(x[1]))\n",
    "    print(x[0], float(\"%0.2f\" % D))\n"
   ]
  },
  {
   "cell_type": "markdown",
   "metadata": {},
   "source": [
    "## Собственные числа и вектора"
   ]
  },
  {
   "cell_type": "code",
   "execution_count": 36,
   "metadata": {},
   "outputs": [
    {
     "name": "stdout",
     "output_type": "stream",
     "text": [
      "< A >\n",
      "X = [1.0, 3.0, 1.0]\n",
      "V = [[0.0, 0.58, -0.71], [1.0, 0.58, 0.0], [0.0, 0.58, 0.71]]\n",
      "\n",
      "< B >\n",
      "X = [-2.0, 3.0, 6.0]\n",
      "V = [[0.71, -0.58, -0.41], [-0.0, 0.58, -0.82], [-0.71, -0.58, -0.41]]\n",
      "\n",
      "< C >\n",
      "X = [1.0, 0.0, 0.0, 0.0]\n",
      "V = [[0.71, 0.45, 0.0, 0.41], [0.0, 0.0, 0.0, 0.0], [0.71, 0.89, 0.0, 0.82], [0.0, 0.0, 1.0, -0.41]]\n",
      "\n",
      "< D >\n",
      "X = [0.0, -2.0, 1.0]\n",
      "V = [[0.0, 0.49, -0.89], [0.0, -0.49, 0.45], [1.0, -0.73, 0.0]]\n",
      "\n",
      "< E >\n",
      "X = [3.0, 2.0, 1.0]\n",
      "V = [[0.6, -0.58, -0.0], [-0.3, 0.58, 0.71], [-0.75, 0.58, -0.71]]\n",
      "\n"
     ]
    }
   ],
   "source": [
    "data = [\n",
    "    (\"A\", [[2,0,1],[1,1,1],[1,0,2]]),\n",
    "    (\"B\", [[1,1,3],[1,5,1],[3,1,1]]),\n",
    "    (\"C\", [[2,1,-1,0],[0,0,0,0],[2,0,-1,0],[0,1,0,0]]),\n",
    "    (\"D\", [[4,6,0],[-3,-5,0],[-3,-6,0]]),\n",
    "    (\"E\", [[10,4,4],[-1,1,0],[-13,-6,-5]])\n",
    "]\n",
    "\n",
    "for x in data:\n",
    "    E = np.linalg.eig(np.array(x[1]))\n",
    "    print(\"<\", x[0], \">\")\n",
    "    print(\"X =\", [float(\"%0.2f\" % x) for x in E[0]])\n",
    "    print(\"V =\", [[float(\"%0.2f\" % x) for x in v] for v in E[1]])\n",
    "    print()"
   ]
  },
  {
   "cell_type": "code",
   "execution_count": null,
   "metadata": {},
   "outputs": [],
   "source": []
  }
 ],
 "metadata": {
  "kernelspec": {
   "display_name": "Python 3",
   "language": "python",
   "name": "python3"
  },
  "language_info": {
   "codemirror_mode": {
    "name": "ipython",
    "version": 3
   },
   "file_extension": ".py",
   "mimetype": "text/x-python",
   "name": "python",
   "nbconvert_exporter": "python",
   "pygments_lexer": "ipython3",
   "version": "3.7.3"
  }
 },
 "nbformat": 4,
 "nbformat_minor": 2
}
