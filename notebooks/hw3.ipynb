{
 "cells": [
  {
   "cell_type": "code",
   "execution_count": 1,
   "metadata": {},
   "outputs": [],
   "source": [
    "import numpy as np\n",
    "import matplotlib.pyplot as plt"
   ]
  },
  {
   "cell_type": "markdown",
   "metadata": {},
   "source": [
    "## №1"
   ]
  },
  {
   "cell_type": "markdown",
   "metadata": {},
   "source": [
    "Для того чтобы непустое подмножество векторного пространства являлось его подпространством, требуется выполнение двух свойств:\n",
    "\n",
    "1) суммарный вектор двух любых векторов этого подмножества должен принадлежать этому подмножеству\n",
    "\n",
    "2) произведение любого вектора из этого подмножества на любое значение из поля рассматриваемого пространства должно принадлежать рассматриваемому подмножеству"
   ]
  },
  {
   "cell_type": "markdown",
   "metadata": {},
   "source": [
    "Ответы:\n",
    "\n",
    "a) +\n",
    "\n",
    "b) -\n",
    "\n",
    "c) ?\n",
    "\n",
    "d) + (тривиальное)\n",
    "\n",
    "e) ?"
   ]
  },
  {
   "cell_type": "markdown",
   "metadata": {},
   "source": [
    "## №2"
   ]
  },
  {
   "cell_type": "markdown",
   "metadata": {},
   "source": [
    "Теорема Кронекера-Капелли говорит, что система совместна, если ранг расширенной матрицы системы равен рангу обычной матрицы системы. Таким образом надо подобрать коэффициенты СЛАУ таким образом, чтобы это правило нарушить:"
   ]
  },
  {
   "cell_type": "markdown",
   "metadata": {},
   "source": [
    "x + 2y + 3z = 7\n",
    " \n",
    "2x + 4y + 6z = 8"
   ]
  },
  {
   "cell_type": "markdown",
   "metadata": {},
   "source": [
    "Ранг обычной матрицы будет равен 1, а расширенной 2 - следовательно система несовместна."
   ]
  },
  {
   "cell_type": "markdown",
   "metadata": {},
   "source": [
    "## №3"
   ]
  },
  {
   "cell_type": "markdown",
   "metadata": {},
   "source": [
    "Поскольку и строки и столбцы матрицы линейно зависимы, то размерность пространства будет равна единице, а графически это можно представить в виде линии, проходящей через начало координат."
   ]
  },
  {
   "cell_type": "code",
   "execution_count": 2,
   "metadata": {},
   "outputs": [],
   "source": [
    "def draw_vectors(v1,v2):\n",
    "    origin = [0], [0]\n",
    "    plt.quiver(*origin, v1, v2, color=['r','b'], scale=21)\n",
    "    plt.show()"
   ]
  },
  {
   "cell_type": "code",
   "execution_count": 3,
   "metadata": {},
   "outputs": [
    {
     "data": {
      "image/png": "[encoded data removed]",
      "text/plain": [
       "<Figure size 432x288 with 1 Axes>"
      ]
     },
     "metadata": {
      "needs_background": "light"
     },
     "output_type": "display_data"
    },
    {
     "data": {
      "image/png": "[encoded data removed]",
      "text/plain": [
       "<Figure size 432x288 with 1 Axes>"
      ]
     },
     "metadata": {
      "needs_background": "light"
     },
     "output_type": "display_data"
    }
   ],
   "source": [
    "draw_vectors([1,3], [2,6])\n",
    "draw_vectors([1,2], [3,6])"
   ]
  },
  {
   "cell_type": "markdown",
   "metadata": {},
   "source": [
    "## №4"
   ]
  },
  {
   "cell_type": "markdown",
   "metadata": {},
   "source": [
    "Размерность пространства матриц 3x3 равна 9. Так как матрица симметричная, то элементы ниже главной диагонали будут равны тем что, над ней, соответственно размерность пр-ва уменьшится до 6. И следовательно базисных векторов тоже будет 6: "
   ]
  },
  {
   "cell_type": "code",
   "execution_count": 4,
   "metadata": {},
   "outputs": [],
   "source": [
    "def print_m_basis(n):\n",
    "    for i in range(0,n):\n",
    "        for j in range(i,n):\n",
    "            m = np.zeros((n,n))\n",
    "            m[i,j] = 1\n",
    "            m[j,i] = 1\n",
    "            print(m, \"\\n\")"
   ]
  },
  {
   "cell_type": "code",
   "execution_count": 5,
   "metadata": {},
   "outputs": [
    {
     "name": "stdout",
     "output_type": "stream",
     "text": [
      "[[1. 0. 0.]\n",
      " [0. 0. 0.]\n",
      " [0. 0. 0.]] \n",
      "\n",
      "[[0. 1. 0.]\n",
      " [1. 0. 0.]\n",
      " [0. 0. 0.]] \n",
      "\n",
      "[[0. 0. 1.]\n",
      " [0. 0. 0.]\n",
      " [1. 0. 0.]] \n",
      "\n",
      "[[0. 0. 0.]\n",
      " [0. 1. 0.]\n",
      " [0. 0. 0.]] \n",
      "\n",
      "[[0. 0. 0.]\n",
      " [0. 0. 1.]\n",
      " [0. 1. 0.]] \n",
      "\n",
      "[[0. 0. 0.]\n",
      " [0. 0. 0.]\n",
      " [0. 0. 1.]] \n",
      "\n"
     ]
    }
   ],
   "source": [
    "print_m_basis(3)"
   ]
  }
 ],
 "metadata": {
  "kernelspec": {
   "display_name": "Python 3",
   "language": "python",
   "name": "python3"
  },
  "language_info": {
   "codemirror_mode": {
    "name": "ipython",
    "version": 3
   },
   "file_extension": ".py",
   "mimetype": "text/x-python",
   "name": "python",
   "nbconvert_exporter": "python",
   "pygments_lexer": "ipython3",
   "version": "3.7.3"
  }
 },
 "nbformat": 4,
 "nbformat_minor": 2
}
