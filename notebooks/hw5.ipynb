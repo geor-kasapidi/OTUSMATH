{
 "cells": [
  {
   "cell_type": "markdown",
   "metadata": {},
   "source": [
    "### Реализовать SVM и Logistic Regression для данного датасета: https://archive.ics.uci.edu/ml/datasets/breast+cancer+wisconsin+(original) Метрики оценки: Accuracy, Precision, Recall, F1-Score\n",
    "\n",
    "+ Все ок, добавьте пожалуйста стандартизацию данных и подбор параметров по gridsearch. также если можно чуть больше аналитики-выводы и сравнения"
   ]
  },
  {
   "cell_type": "code",
   "execution_count": 83,
   "metadata": {},
   "outputs": [],
   "source": [
    "import pandas as pd\n",
    "import matplotlib.pyplot as plt\n",
    "import numpy as np\n",
    "from sklearn.preprocessing import StandardScaler, PolynomialFeatures\n",
    "from sklearn.model_selection import train_test_split, GridSearchCV\n",
    "from sklearn import metrics\n",
    "from sklearn.svm import SVC\n",
    "from sklearn.linear_model import LogisticRegression"
   ]
  },
  {
   "cell_type": "code",
   "execution_count": 84,
   "metadata": {
    "scrolled": true
   },
   "outputs": [
    {
     "data": {
      "text/html": [
       "<div>\n",
       "<style scoped>\n",
       "    .dataframe tbody tr th:only-of-type {\n",
       "        vertical-align: middle;\n",
       "    }\n",
       "\n",
       "    .dataframe tbody tr th {\n",
       "        vertical-align: top;\n",
       "    }\n",
       "\n",
       "    .dataframe thead th {\n",
       "        text-align: right;\n",
       "    }\n",
       "</style>\n",
       "<table border=\"1\" class=\"dataframe\">\n",
       "  <thead>\n",
       "    <tr style=\"text-align: right;\">\n",
       "      <th></th>\n",
       "      <th>Clump Thickness</th>\n",
       "      <th>Uniformity of Cell Size</th>\n",
       "      <th>Uniformity of Cell Shape</th>\n",
       "      <th>Marginal Adhesion</th>\n",
       "      <th>Single Epithelial Cell Size</th>\n",
       "      <th>Bare Nuclei</th>\n",
       "      <th>Bland Chromatin</th>\n",
       "      <th>Normal Nucleoli</th>\n",
       "      <th>Mitoses</th>\n",
       "      <th>Class</th>\n",
       "    </tr>\n",
       "  </thead>\n",
       "  <tbody>\n",
       "    <tr>\n",
       "      <th>0</th>\n",
       "      <td>5</td>\n",
       "      <td>4</td>\n",
       "      <td>4</td>\n",
       "      <td>5</td>\n",
       "      <td>7</td>\n",
       "      <td>10</td>\n",
       "      <td>3</td>\n",
       "      <td>2</td>\n",
       "      <td>1</td>\n",
       "      <td>0</td>\n",
       "    </tr>\n",
       "    <tr>\n",
       "      <th>1</th>\n",
       "      <td>3</td>\n",
       "      <td>1</td>\n",
       "      <td>1</td>\n",
       "      <td>1</td>\n",
       "      <td>2</td>\n",
       "      <td>2</td>\n",
       "      <td>3</td>\n",
       "      <td>1</td>\n",
       "      <td>1</td>\n",
       "      <td>0</td>\n",
       "    </tr>\n",
       "    <tr>\n",
       "      <th>2</th>\n",
       "      <td>6</td>\n",
       "      <td>8</td>\n",
       "      <td>8</td>\n",
       "      <td>1</td>\n",
       "      <td>3</td>\n",
       "      <td>4</td>\n",
       "      <td>3</td>\n",
       "      <td>7</td>\n",
       "      <td>1</td>\n",
       "      <td>0</td>\n",
       "    </tr>\n",
       "    <tr>\n",
       "      <th>3</th>\n",
       "      <td>4</td>\n",
       "      <td>1</td>\n",
       "      <td>1</td>\n",
       "      <td>3</td>\n",
       "      <td>2</td>\n",
       "      <td>1</td>\n",
       "      <td>3</td>\n",
       "      <td>1</td>\n",
       "      <td>1</td>\n",
       "      <td>0</td>\n",
       "    </tr>\n",
       "    <tr>\n",
       "      <th>4</th>\n",
       "      <td>8</td>\n",
       "      <td>10</td>\n",
       "      <td>10</td>\n",
       "      <td>8</td>\n",
       "      <td>7</td>\n",
       "      <td>10</td>\n",
       "      <td>9</td>\n",
       "      <td>7</td>\n",
       "      <td>1</td>\n",
       "      <td>1</td>\n",
       "    </tr>\n",
       "  </tbody>\n",
       "</table>\n",
       "</div>"
      ],
      "text/plain": [
       "   Clump Thickness  Uniformity of Cell Size  Uniformity of Cell Shape  \\\n",
       "0                5                        4                         4   \n",
       "1                3                        1                         1   \n",
       "2                6                        8                         8   \n",
       "3                4                        1                         1   \n",
       "4                8                       10                        10   \n",
       "\n",
       "   Marginal Adhesion  Single Epithelial Cell Size  Bare Nuclei  \\\n",
       "0                  5                            7           10   \n",
       "1                  1                            2            2   \n",
       "2                  1                            3            4   \n",
       "3                  3                            2            1   \n",
       "4                  8                            7           10   \n",
       "\n",
       "   Bland Chromatin  Normal Nucleoli  Mitoses  Class  \n",
       "0                3                2        1      0  \n",
       "1                3                1        1      0  \n",
       "2                3                7        1      0  \n",
       "3                3                1        1      0  \n",
       "4                9                7        1      1  "
      ]
     },
     "execution_count": 84,
     "metadata": {},
     "output_type": "execute_result"
    }
   ],
   "source": [
    "df = pd.read_csv(\"breast_cancer/wisconsin.data\")\n",
    "df.columns = [\n",
    "    'Id',\n",
    "    'Clump Thickness', # толщина комков\n",
    "    'Uniformity of Cell Size', # однородность размера клетки\n",
    "    'Uniformity of Cell Shape', # однородность формы клетки\n",
    "    'Marginal Adhesion', # предельная адгезия\n",
    "    'Single Epithelial Cell Size', # размер одной эпителиальной клетки\n",
    "    'Bare Nuclei', # голые ядра\n",
    "    'Bland Chromatin', # мягкий хроматин\n",
    "    'Normal Nucleoli', # нормальные ядра\n",
    "    'Mitoses', # митозы\n",
    "    'Class' # 2 - доброкачественные, 4 - злокачественные\"\n",
    "]\n",
    "\n",
    "# удаляем колонку идентификаторов - они не нужны в вычислениях\n",
    "df.drop('Id', axis=1, inplace=True)\n",
    "\n",
    "# в датасете есть 16 записей у которых отсутствует значение аттрибута Bare Nuclei - ими можно пренебречь:\n",
    "df = df[df['Bare Nuclei'] != '?'].astype({'Bare Nuclei':'int64'})\n",
    "\n",
    "# заменяем 2 и 4 на 0 и 1 для класса\n",
    "df['Class'] = df['Class'].apply(lambda x: 1 if x == 4 else 0)\n",
    "\n",
    "# все значения х-к находятся в интервале 0:10\n",
    "df.head()"
   ]
  },
  {
   "cell_type": "code",
   "execution_count": 85,
   "metadata": {},
   "outputs": [],
   "source": [
    "X, y = df.iloc[:, 0:9].values, df.iloc[:, 9].values\n",
    "\n",
    "X_scale = StandardScaler().fit_transform(X)\n",
    "X_poly = PolynomialFeatures(5).fit_transform(X)"
   ]
  },
  {
   "cell_type": "code",
   "execution_count": 86,
   "metadata": {},
   "outputs": [],
   "source": [
    "def make_title(estimator, params):\n",
    "    values = map(lambda p: '{} = {}'.format(p, getattr(estimator, p)), params)\n",
    "    \n",
    "    return '{} ({})'.format(type(estimator).__name__, ', '.join(values))"
   ]
  },
  {
   "cell_type": "code",
   "execution_count": 87,
   "metadata": {},
   "outputs": [],
   "source": [
    "def get_metrics(y_pred, y_real):\n",
    "    accuracy = metrics.accuracy_score(y_real, y_pred)\n",
    "    precision = metrics.precision_score(y_real, y_pred)\n",
    "    recall = metrics.recall_score(y_real, y_pred)\n",
    "    f1 = metrics.f1_score(y_real, y_pred)\n",
    "    \n",
    "    return accuracy, precision, recall, f1"
   ]
  },
  {
   "cell_type": "code",
   "execution_count": 88,
   "metadata": {},
   "outputs": [],
   "source": [
    "def fit_predict(estimator, params, X, y):\n",
    "    x_train, x_test, y_train, y_test = train_test_split(X, y, stratify=y, test_size=0.25)\n",
    "    \n",
    "    optimizer = GridSearchCV(estimator, params, cv=5, iid=False)\n",
    "    optimizer.fit(x_train, y_train)\n",
    "    best_estimator = optimizer.best_estimator_\n",
    "    \n",
    "    y_pred = best_estimator.predict(x_test)\n",
    "    \n",
    "    title = make_title(best_estimator, params)\n",
    "    \n",
    "    return title, get_metrics(y_pred, y_test)"
   ]
  },
  {
   "cell_type": "markdown",
   "metadata": {},
   "source": [
    "### Датафрейм для метрик"
   ]
  },
  {
   "cell_type": "code",
   "execution_count": 89,
   "metadata": {},
   "outputs": [],
   "source": [
    "metrics_df = pd.DataFrame(columns=['Name', 'Accuracy', 'Precision', 'Recall', 'F1'])\n",
    "\n",
    "def add_metrics(data):\n",
    "    global metrics_df\n",
    "    metrics_df = metrics_df.append({\n",
    "        'Name': data[0],\n",
    "        'Accuracy': data[1][0],\n",
    "        'Precision': data[1][1],\n",
    "        'Recall': data[1][2],\n",
    "        'F1': data[1][3]\n",
    "    }, ignore_index=True)"
   ]
  },
  {
   "cell_type": "markdown",
   "metadata": {},
   "source": [
    "### Метод опорных векторов"
   ]
  },
  {
   "cell_type": "code",
   "execution_count": 90,
   "metadata": {},
   "outputs": [],
   "source": [
    "svc_params = {\n",
    "    'C': [1e-4, 1e-3, 1e-2, 1e-1, 1e0],\n",
    "    'kernel': ['linear', 'poly']\n",
    "}\n",
    "\n",
    "add_metrics(fit_predict(SVC(gamma='auto'), svc_params, X, y))\n",
    "add_metrics(fit_predict(SVC(gamma='auto'), svc_params, X_scale, y))\n",
    "add_metrics(fit_predict(SVC(gamma='auto'), svc_params, X_poly, y))"
   ]
  },
  {
   "cell_type": "markdown",
   "metadata": {},
   "source": [
    "### Логистическая регрессия"
   ]
  },
  {
   "cell_type": "code",
   "execution_count": 91,
   "metadata": {},
   "outputs": [],
   "source": [
    "lr_params = {\n",
    "    'C': [1e-4, 1e-3, 1e-2, 1e-1, 1e0]\n",
    "}\n",
    "\n",
    "add_metrics(fit_predict(LogisticRegression(solver='lbfgs'), lr_params, X, y))\n",
    "add_metrics(fit_predict(LogisticRegression(solver='lbfgs'), lr_params, X_scale, y))\n",
    "\n",
    "# для полиномиальных признаков логистическая регрессия отказывается работать"
   ]
  },
  {
   "cell_type": "markdown",
   "metadata": {},
   "source": [
    "### Анализ метрик"
   ]
  },
  {
   "cell_type": "code",
   "execution_count": 92,
   "metadata": {},
   "outputs": [
    {
     "data": {
      "text/html": [
       "<div>\n",
       "<style scoped>\n",
       "    .dataframe tbody tr th:only-of-type {\n",
       "        vertical-align: middle;\n",
       "    }\n",
       "\n",
       "    .dataframe tbody tr th {\n",
       "        vertical-align: top;\n",
       "    }\n",
       "\n",
       "    .dataframe thead th {\n",
       "        text-align: right;\n",
       "    }\n",
       "</style>\n",
       "<table border=\"1\" class=\"dataframe\">\n",
       "  <thead>\n",
       "    <tr style=\"text-align: right;\">\n",
       "      <th></th>\n",
       "      <th>Name</th>\n",
       "      <th>Accuracy</th>\n",
       "      <th>Precision</th>\n",
       "      <th>Recall</th>\n",
       "      <th>F1</th>\n",
       "    </tr>\n",
       "  </thead>\n",
       "  <tbody>\n",
       "    <tr>\n",
       "      <th>0</th>\n",
       "      <td>SVC (C = 0.01, kernel = linear)</td>\n",
       "      <td>0.964912</td>\n",
       "      <td>0.950000</td>\n",
       "      <td>0.950000</td>\n",
       "      <td>0.950000</td>\n",
       "    </tr>\n",
       "    <tr>\n",
       "      <th>1</th>\n",
       "      <td>SVC (C = 1.0, kernel = linear)</td>\n",
       "      <td>0.976608</td>\n",
       "      <td>0.951613</td>\n",
       "      <td>0.983333</td>\n",
       "      <td>0.967213</td>\n",
       "    </tr>\n",
       "    <tr>\n",
       "      <th>2</th>\n",
       "      <td>SVC (C = 0.0001, kernel = linear)</td>\n",
       "      <td>0.941520</td>\n",
       "      <td>0.946429</td>\n",
       "      <td>0.883333</td>\n",
       "      <td>0.913793</td>\n",
       "    </tr>\n",
       "    <tr>\n",
       "      <th>3</th>\n",
       "      <td>LogisticRegression (C = 0.1)</td>\n",
       "      <td>0.982456</td>\n",
       "      <td>0.952381</td>\n",
       "      <td>1.000000</td>\n",
       "      <td>0.975610</td>\n",
       "    </tr>\n",
       "    <tr>\n",
       "      <th>4</th>\n",
       "      <td>LogisticRegression (C = 1.0)</td>\n",
       "      <td>0.959064</td>\n",
       "      <td>0.920635</td>\n",
       "      <td>0.966667</td>\n",
       "      <td>0.943089</td>\n",
       "    </tr>\n",
       "  </tbody>\n",
       "</table>\n",
       "</div>"
      ],
      "text/plain": [
       "                                Name  Accuracy  Precision    Recall        F1\n",
       "0    SVC (C = 0.01, kernel = linear)  0.964912   0.950000  0.950000  0.950000\n",
       "1     SVC (C = 1.0, kernel = linear)  0.976608   0.951613  0.983333  0.967213\n",
       "2  SVC (C = 0.0001, kernel = linear)  0.941520   0.946429  0.883333  0.913793\n",
       "3       LogisticRegression (C = 0.1)  0.982456   0.952381  1.000000  0.975610\n",
       "4       LogisticRegression (C = 1.0)  0.959064   0.920635  0.966667  0.943089"
      ]
     },
     "execution_count": 92,
     "metadata": {},
     "output_type": "execute_result"
    }
   ],
   "source": [
    "metrics_df"
   ]
  },
  {
   "cell_type": "code",
   "execution_count": 93,
   "metadata": {},
   "outputs": [
    {
     "data": {
      "text/plain": [
       "[]"
      ]
     },
     "execution_count": 93,
     "metadata": {},
     "output_type": "execute_result"
    },
    {
     "data": {
      "image/png": "[encoded data removed]",
      "text/plain": [
       "<Figure size 432x288 with 1 Axes>"
      ]
     },
     "metadata": {
      "needs_background": "light"
     },
     "output_type": "display_data"
    },
    {
     "data": {
      "image/png": "[encoded data removed]",
      "text/plain": [
       "<Figure size 432x288 with 1 Axes>"
      ]
     },
     "metadata": {
      "needs_background": "light"
     },
     "output_type": "display_data"
    },
    {
     "data": {
      "image/png": "[encoded data removed]",
      "text/plain": [
       "<Figure size 432x288 with 1 Axes>"
      ]
     },
     "metadata": {
      "needs_background": "light"
     },
     "output_type": "display_data"
    },
    {
     "data": {
      "image/png": "[encoded data removed]",
      "text/plain": [
       "<Figure size 432x288 with 1 Axes>"
      ]
     },
     "metadata": {
      "needs_background": "light"
     },
     "output_type": "display_data"
    }
   ],
   "source": [
    "metrics_df.plot.bar(x='Name', y='Accuracy')\n",
    "plt.ylim(0.9, 1.0)\n",
    "plt.plot()\n",
    "\n",
    "metrics_df.plot.bar(x='Name', y='Precision')\n",
    "plt.ylim(0.9, 1.0)\n",
    "plt.plot()\n",
    "\n",
    "metrics_df.plot.bar(x='Name', y='Recall')\n",
    "plt.ylim(0.9, 1.0)\n",
    "plt.plot()\n",
    "\n",
    "metrics_df.plot.bar(x='Name', y='F1')\n",
    "plt.ylim(0.9, 1.0)\n",
    "plt.plot()"
   ]
  },
  {
   "cell_type": "markdown",
   "metadata": {},
   "source": [
    "В качестве общего вывода - SVM и логистическая регрессия справляются примерно одинаково в случае неполиноми или к шкалированным. Полиномиальные признаки хуже - SVM на них выдает грустную картинку, но хотя б считает. А логистическая регрессия - та вообще сломалась."
   ]
  }
 ],
 "metadata": {
  "kernelspec": {
   "display_name": "Python 3",
   "language": "python",
   "name": "python3"
  },
  "language_info": {
   "codemirror_mode": {
    "name": "ipython",
    "version": 3
   },
   "file_extension": ".py",
   "mimetype": "text/x-python",
   "name": "python",
   "nbconvert_exporter": "python",
   "pygments_lexer": "ipython3",
   "version": "3.7.3"
  }
 },
 "nbformat": 4,
 "nbformat_minor": 2
}
